{
 "cells": [
  {
   "cell_type": "markdown",
   "metadata": {},
   "source": [
    "# The Boxplot Function\n",
    "\n",
    "The box plot is a method for graphically representating the distribution of numerical data based on five statistical points. It uses the minimum, first quartile (Q1), median, third quartile (Q3) and the maximum of a dataset to create the boxplot (see *Image 1*). Quartiles are values that divide a dataset into four equal groups. Similar to the concept of the median as the middle value that divides a dataset into two halves, the medians of the halves are the quartiles. The quartile at the first half is called the first quartile and the quartile at the second half is called the third quartile. The first quartile is also the 25th percentile of the dataset and the 75th percentile is the third quartile. The median is the 50th percentile. A box is drawn using the lower and upper quartiles as the edges or limits and the area within the box is the interquartile range. \n",
    "\n",
    "<img src=\"boxplot.png\">\n",
    "    *Image 1*. Parts of a box plot. https://towardsdatascience.com/understanding-boxplots-5e2df7bcbd51\n",
    "    \n",
    "    \n",
    "    \n",
    "\n",
    "The box plot or specifically the box-and-whisker plot was formally introduced by John W. Tukey in his book \"Exploratory Data Analysis\" in 1977[1][2]. Tukeys original description has some variations from what is normally being used today. Some differences include the lack of crossbars and use of the closely-related *hinges* (see *image 2*) instead of quartiles [2]. Both hinges and quartiles are similar in how they divide up a dataset. Informally speaking, the lower hinge is equivalent to the the first quartile and the upper hinge to the upper quartile. However, in Tukeys formal definition, if a sample size is divided by four with a remainder of three, the hinges will not equal the corresponding quartiles.         \n",
    "\n",
    "    \n",
    "<img src=\"Tukey.PNG\">\n",
    "                *Image 2*. Tukey's box plot. http://mathworld.wolfram.com/Box-and-WhiskerPlot.html\n",
    "                \n",
    "                \n",
    "                \n",
    "\n",
    "The box plot gives an indication of the variability of data and provide information of how the data is spread out. Although it does not show as much detail as a stem and leaf plot or a histogram, it is useful for indicating outliers and distributions that are skewed [3]. Box plots allow comparison of data  from different categories and are useful with large numbers of observations [3] that are related to each other in some way [4]. Some examples of when to use a box plot is comparing test scores between schools [4] or comparing snowfall recordings over a number of years between two ski resorts [5]. Image 3 compares the boxplot with a relatively normal distribution to a probability density function of a normal distribution.\n",
    "\n",
    "\n",
    "<img src=\"boxprobability.png\">\n",
    "        *Image 3*. Box plot and normal distribution comparison. https://towardsdatascience.com/understanding-boxplots-5e2df7bcbd51\n",
    "        \n",
    "    \n",
    "The box plot is an efficient method of summarizing and representing data and is a useful addition to other analytical tools. Other methods are more effective for detailed analysis compared to a box plot. A scatter plot for example shows more detail and relationships between variables.  In a case where a histogram shows a three peaks, these could average each other out in a box plot and show a roughly normal distribution [6].\n",
    "\n",
    "\n",
    "\n",
    "\n",
    "## References\n",
    "\n",
    "[1] H. Wickham and L. Stryjewski, \"40 Years of boxplots,\" November 29, 2011. \n",
    "\n",
    "[2] Wolfram Research Inc, http://mathworld.wolfram.com/Box-and-WhiskerPlot.html\n",
    "\n",
    "[3] Statistics Canada, https://www150.statcan.gc.ca/n1/edu/power-pouvoir/ch12/5214889-eng.htm.\n",
    "\n",
    "[4] American Society for Quality, http://asq.org/learn-about-quality/data-collection-analysis-tools/overview/box-whisker-plot.html. \n",
    "\n",
    "[5] Brainingcamp, https://www.youtube.com/watch?v=CoVf1jLxgj4. \n",
    "\n",
    "[6] Bright Hub PM. https://www.brighthubpm.com/six-sigma/58254-box-plots-vs-histograms-in-project-management."
   ]
  },
  {
   "cell_type": "markdown",
   "metadata": {},
   "source": []
  }
 ],
 "metadata": {
  "kernelspec": {
   "display_name": "Python 3",
   "language": "python",
   "name": "python3"
  },
  "language_info": {
   "codemirror_mode": {
    "name": "ipython",
    "version": 3
   },
   "file_extension": ".py",
   "mimetype": "text/x-python",
   "name": "python",
   "nbconvert_exporter": "python",
   "pygments_lexer": "ipython3",
   "version": "3.6.6"
  }
 },
 "nbformat": 4,
 "nbformat_minor": 2
}
