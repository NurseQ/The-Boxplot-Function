{
 "cells": [
  {
   "cell_type": "markdown",
   "metadata": {},
   "source": [
    "# The Boxplot Function\n",
    "\n",
    "The box plot is a method for graphically representating the distribution of numerical data based on five statistical points. It uses the minimum, first quartile (Q1), median, third quartile (Q3) and the maximum of a dataset to create the boxplot (see *Image 1*). The box plot gives an indication of the variability of data and provide information of how the data is spread out.\n",
    "\n",
    "The box plot or specifically the box-and-whisker plot was formally introduced by John W. Tukey in his book \"Exploratory Data Analysis\" in 1977[1][2]. Tukeys original description has some variations from what is normally being used today. Some differences include the lack of crossbars and use of the closely-related *hinges* (see *image 2*) instead of quartiles [2]. Both hinges and quartiles are similar in how they divide up a dataset. Informally speaking, the lower hinge is equivalent to the the first quartile and the upper hinge to the upper quartile. However, in Tukeys formal definition, if a sample size is divided by four with a remainder of three, the hinges will not equal the corresponding quartiles.         The original description of the \n",
    "\n",
    "<img src=\"boxplot.png\">\n",
    "    *Image 1*. Parts of a box plot. https://towardsdatascience.com/understanding-boxplots-5e2df7bcbd51\n",
    "    \n",
    "    \n",
    "<img src=\"Tukey.PNG\">\n",
    "                *Image 2*. Tukey's box plot. http://mathworld.wolfram.com/Box-and-WhiskerPlot.html\n",
    "\n",
    "## References\n",
    "\n",
    "[1] H. Wickham and L. Stryjewski, \"40 Years of boxplots,\" November 29, 2011. \n",
    "\n",
    "[2] Wolfram Research Inc, http://mathworld.wolfram.com/Box-and-WhiskerPlot.html"
   ]
  },
  {
   "cell_type": "markdown",
   "metadata": {},
   "source": []
  }
 ],
 "metadata": {
  "kernelspec": {
   "display_name": "Python 3",
   "language": "python",
   "name": "python3"
  },
  "language_info": {
   "codemirror_mode": {
    "name": "ipython",
    "version": 3
   },
   "file_extension": ".py",
   "mimetype": "text/x-python",
   "name": "python",
   "nbconvert_exporter": "python",
   "pygments_lexer": "ipython3",
   "version": "3.6.5"
  }
 },
 "nbformat": 4,
 "nbformat_minor": 2
}
