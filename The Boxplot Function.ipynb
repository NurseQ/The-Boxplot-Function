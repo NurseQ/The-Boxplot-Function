{
 "cells": [
  {
   "cell_type": "markdown",
   "metadata": {},
   "source": [
    "# The Boxplot Function\n",
    "\n",
    "The box plot or specifically the box-and-whisker plot was formally introduced by John W. Tukey in his book \"Exploratory Data Analysis\" in 1977[1].The box plot is a method for graphically representating the distribution of numerical data based on five statistical points. It uses the minimum, first quartile (Q1), median, third quartile (Q3) and the maximum of a dataset to create the boxplot (see *Image 1*). The box plot gives an indication of the variability of data, it provides information of how the data is spread out.       The original description of the \n",
    "\n",
    "<img src=\"boxplot.png\">\n",
    "    *Image 1*. Parts of a box plot. https://towardsdatascience.com/understanding-boxplots-5e2df7bcbd51\n",
    "    \n",
    "    \n",
    "<img src=\"BoxandWhiskersTukey_1000.gif\">\n",
    "\n",
    "## References\n",
    "\n",
    "[1] H. Wickham and L. Stryjewski, \"40 Years of boxplots,\" November 29, 2011. "
   ]
  },
  {
   "cell_type": "code",
   "execution_count": null,
   "metadata": {},
   "outputs": [],
   "source": []
  }
 ],
 "metadata": {
  "kernelspec": {
   "display_name": "Python 3",
   "language": "python",
   "name": "python3"
  },
  "language_info": {
   "codemirror_mode": {
    "name": "ipython",
    "version": 3
   },
   "file_extension": ".py",
   "mimetype": "text/x-python",
   "name": "python",
   "nbconvert_exporter": "python",
   "pygments_lexer": "ipython3",
   "version": "3.6.5"
  }
 },
 "nbformat": 4,
 "nbformat_minor": 2
}
