{
 "cells": [
  {
   "cell_type": "markdown",
   "metadata": {},
   "source": [
    "# The Boxplot Function\n",
    "\n",
    "The box plot is a method for graphically representating the distribution of numerical data based on five statistical points.      The box plot or specifically the box-and-whisker plot was introduced by John W. Tukey in his book \"Exploratory Data Analysis\" in 1977. The original description of the \n",
    "\n",
    "<img src=\"BoxandWhiskersTukey_1000.gif\">"
   ]
  },
  {
   "cell_type": "code",
   "execution_count": null,
   "metadata": {},
   "outputs": [],
   "source": []
  }
 ],
 "metadata": {
  "kernelspec": {
   "display_name": "Python 3",
   "language": "python",
   "name": "python3"
  },
  "language_info": {
   "codemirror_mode": {
    "name": "ipython",
    "version": 3
   },
   "file_extension": ".py",
   "mimetype": "text/x-python",
   "name": "python",
   "nbconvert_exporter": "python",
   "pygments_lexer": "ipython3",
   "version": "3.6.5"
  }
 },
 "nbformat": 4,
 "nbformat_minor": 2
}
